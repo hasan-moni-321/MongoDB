{
 "cells": [
  {
   "cell_type": "code",
   "execution_count": null,
   "metadata": {},
   "outputs": [],
   "source": []
  },
  {
   "cell_type": "code",
   "execution_count": 1,
   "metadata": {},
   "outputs": [],
   "source": [
    "import pymongo\n",
    "import datetime"
   ]
  },
  {
   "cell_type": "code",
   "execution_count": 2,
   "metadata": {},
   "outputs": [
    {
     "name": "stdout",
     "output_type": "stream",
     "text": [
      "List of collections are :  ['admin', 'config', 'local', 'mydatabase']\n"
     ]
    }
   ],
   "source": [
    "myclient = pymongo.MongoClient(\"mongodb://localhost:27017\")\n",
    "mydb = myclient['mydatabase']\n",
    "print(\"List of collections are : \", myclient.list_database_names())\n",
    "\n",
    "# new collection\n",
    "mycol = mydb['student_details']\n"
   ]
  },
  {
   "cell_type": "code",
   "execution_count": 5,
   "metadata": {},
   "outputs": [],
   "source": [
    "data = [ \n",
    "    {\"user\":\"Krish\", \"subject\":\"Database\", \"score\":80}, \n",
    "    {\"user\":\"Amit\",  \"subject\":\"JavaScript\", \"score\":90}, \n",
    "    {\"user\":\"Amit\",  \"title\":\"Database\", \"score\":85}, \n",
    "    {\"user\":\"Krish\",  \"title\":\"JavaScript\", \"score\":75}, \n",
    "    {\"user\":\"Amit\",  \"title\":\"Data Science\", \"score\":60},\n",
    "    {\"user\":\"Krish\",  \"title\":\"Data Science\", \"score\":95}] "
   ]
  },
  {
   "cell_type": "code",
   "execution_count": 6,
   "metadata": {},
   "outputs": [
    {
     "data": {
      "text/plain": [
       "<pymongo.results.InsertManyResult at 0x7f1022642440>"
      ]
     },
     "execution_count": 6,
     "metadata": {},
     "output_type": "execute_result"
    }
   ],
   "source": [
    "mycol.insert_many(data)"
   ]
  },
  {
   "cell_type": "code",
   "execution_count": 7,
   "metadata": {},
   "outputs": [
    {
     "name": "stdout",
     "output_type": "stream",
     "text": [
      "{'_id': ObjectId('5f672b048335b4b6d8e85a48'), 'user': 'Krish', 'subject': 'Database', 'score': 80}\n",
      "{'_id': ObjectId('5f672b048335b4b6d8e85a49'), 'user': 'Amit', 'subject': 'JavaScript', 'score': 90}\n",
      "{'_id': ObjectId('5f672b048335b4b6d8e85a4a'), 'user': 'Amit', 'title': 'Database', 'score': 85}\n",
      "{'_id': ObjectId('5f672b048335b4b6d8e85a4b'), 'user': 'Krish', 'title': 'JavaScript', 'score': 75}\n",
      "{'_id': ObjectId('5f672b048335b4b6d8e85a4c'), 'user': 'Amit', 'title': 'Data Science', 'score': 60}\n",
      "{'_id': ObjectId('5f672b048335b4b6d8e85a4d'), 'user': 'Krish', 'title': 'Data Science', 'score': 95}\n"
     ]
    }
   ],
   "source": [
    "for x in mycol.find():\n",
    "    print(x)"
   ]
  },
  {
   "cell_type": "code",
   "execution_count": null,
   "metadata": {},
   "outputs": [],
   "source": []
  },
  {
   "cell_type": "markdown",
   "metadata": {},
   "source": [
    "### Use of group"
   ]
  },
  {
   "cell_type": "code",
   "execution_count": 10,
   "metadata": {},
   "outputs": [],
   "source": [
    "# Finding total unique user and total visibility\n",
    "agg = mycol.aggregate([\n",
    "    {\n",
    "        \"$group\":\n",
    "        {\n",
    "            \"_id\": \"$user\",\n",
    "            \"num_avail\": {\"$sum\": 1}\n",
    "        }\n",
    "    }\n",
    "    \n",
    "])\n"
   ]
  },
  {
   "cell_type": "code",
   "execution_count": 11,
   "metadata": {},
   "outputs": [
    {
     "name": "stdout",
     "output_type": "stream",
     "text": [
      "{'_id': 'Amit', 'num_avail': 3}\n",
      "{'_id': 'Krish', 'num_avail': 3}\n"
     ]
    }
   ],
   "source": [
    "for x in agg:\n",
    "    print(x)"
   ]
  },
  {
   "cell_type": "code",
   "execution_count": null,
   "metadata": {},
   "outputs": [],
   "source": []
  },
  {
   "cell_type": "code",
   "execution_count": null,
   "metadata": {},
   "outputs": [],
   "source": []
  },
  {
   "cell_type": "code",
   "execution_count": 12,
   "metadata": {},
   "outputs": [],
   "source": [
    "# Finding total unique user and their total score\n",
    "agg2 = mycol.aggregate([\n",
    "    {\n",
    "        \"$group\":\n",
    "        {\n",
    "            \"_id\": \"$user\",\n",
    "            \"total_score\": {\"$sum\": \"$score\"}\n",
    "        }\n",
    "    }\n",
    "])\n"
   ]
  },
  {
   "cell_type": "code",
   "execution_count": 13,
   "metadata": {},
   "outputs": [
    {
     "name": "stdout",
     "output_type": "stream",
     "text": [
      "{'_id': 'Amit', 'total_score': 235}\n",
      "{'_id': 'Krish', 'total_score': 250}\n"
     ]
    }
   ],
   "source": [
    "for x in agg2:\n",
    "    print(x)\n",
    "    "
   ]
  },
  {
   "cell_type": "code",
   "execution_count": null,
   "metadata": {},
   "outputs": [],
   "source": []
  },
  {
   "cell_type": "code",
   "execution_count": null,
   "metadata": {},
   "outputs": [],
   "source": []
  },
  {
   "cell_type": "code",
   "execution_count": 14,
   "metadata": {},
   "outputs": [],
   "source": [
    "# Finding total unique user and their average score\n",
    "\n",
    "agg3 = mycol.aggregate([\n",
    "    {\n",
    "        \"$group\":\n",
    "        {\n",
    "            \"_id\": \"$user\",\n",
    "            \"average_score\": {\"$avg\": \"$score\"}\n",
    "        }\n",
    "    }\n",
    "])"
   ]
  },
  {
   "cell_type": "code",
   "execution_count": 15,
   "metadata": {},
   "outputs": [
    {
     "name": "stdout",
     "output_type": "stream",
     "text": [
      "{'_id': 'Amit', 'average_score': 78.33333333333333}\n",
      "{'_id': 'Krish', 'average_score': 83.33333333333333}\n"
     ]
    }
   ],
   "source": [
    "for x in agg3:\n",
    "    print(x)"
   ]
  },
  {
   "cell_type": "code",
   "execution_count": null,
   "metadata": {},
   "outputs": [],
   "source": []
  },
  {
   "cell_type": "code",
   "execution_count": null,
   "metadata": {},
   "outputs": [],
   "source": []
  },
  {
   "cell_type": "markdown",
   "metadata": {},
   "source": [
    "# Use of avg, multiply"
   ]
  },
  {
   "cell_type": "code",
   "execution_count": 17,
   "metadata": {},
   "outputs": [],
   "source": [
    "mycol2 = mydb['product_details']"
   ]
  },
  {
   "cell_type": "code",
   "execution_count": 18,
   "metadata": {},
   "outputs": [],
   "source": [
    "# declare new data\n",
    "data=[{ \"_id\" : 1, \"item\" : \"abc\", \"price\" : 10, \"quantity\" : 2, \"date\" : datetime.datetime.utcnow()},\n",
    "{ \"_id\" : 2, \"item\" : \"jkl\", \"price\" : 20, \"quantity\" : 1, \"date\" : datetime.datetime.utcnow() },\n",
    "{ \"_id\" : 3, \"item\" : \"xyz\", \"price\" : 5, \"quantity\" : 5, \"date\" : datetime.datetime.utcnow() },\n",
    "{ \"_id\" : 4, \"item\" : \"abc\", \"price\" : 10, \"quantity\" : 10, \"date\" : datetime.datetime.utcnow() },\n",
    "{ \"_id\" : 5, \"item\" : \"xyz\", \"price\" : 5, \"quantity\" : 10, \"date\" :datetime.datetime.utcnow() }]\n"
   ]
  },
  {
   "cell_type": "code",
   "execution_count": 20,
   "metadata": {},
   "outputs": [
    {
     "data": {
      "text/plain": [
       "[{'_id': 1,\n",
       "  'item': 'abc',\n",
       "  'price': 10,\n",
       "  'quantity': 2,\n",
       "  'date': datetime.datetime(2020, 9, 20, 10, 47, 42, 375344)},\n",
       " {'_id': 2,\n",
       "  'item': 'jkl',\n",
       "  'price': 20,\n",
       "  'quantity': 1,\n",
       "  'date': datetime.datetime(2020, 9, 20, 10, 47, 42, 375347)},\n",
       " {'_id': 3,\n",
       "  'item': 'xyz',\n",
       "  'price': 5,\n",
       "  'quantity': 5,\n",
       "  'date': datetime.datetime(2020, 9, 20, 10, 47, 42, 375347)},\n",
       " {'_id': 4,\n",
       "  'item': 'abc',\n",
       "  'price': 10,\n",
       "  'quantity': 10,\n",
       "  'date': datetime.datetime(2020, 9, 20, 10, 47, 42, 375348)},\n",
       " {'_id': 5,\n",
       "  'item': 'xyz',\n",
       "  'price': 5,\n",
       "  'quantity': 10,\n",
       "  'date': datetime.datetime(2020, 9, 20, 10, 47, 42, 375348)}]"
      ]
     },
     "execution_count": 20,
     "metadata": {},
     "output_type": "execute_result"
    }
   ],
   "source": [
    "data"
   ]
  },
  {
   "cell_type": "code",
   "execution_count": 19,
   "metadata": {},
   "outputs": [
    {
     "data": {
      "text/plain": [
       "<pymongo.results.InsertManyResult at 0x7f1020159580>"
      ]
     },
     "execution_count": 19,
     "metadata": {},
     "output_type": "execute_result"
    }
   ],
   "source": [
    "mycol2.insert_many(data)"
   ]
  },
  {
   "cell_type": "code",
   "execution_count": 24,
   "metadata": {},
   "outputs": [],
   "source": [
    "# Finding unique item, average price of the item and average quantity\n",
    "agg4 = mycol2.aggregate([\n",
    "    {\n",
    "        \"$group\":\n",
    "        {\n",
    "            \"_id\": \"$item\",\n",
    "            \"average_price\": {\"$avg\": {\"$multiply\": [\"$price\",\"$quantity\"] }  },\n",
    "            \"average_quantity\": {\"$avg\": \"$quantity\"}\n",
    "        }\n",
    "    }\n",
    "])\n"
   ]
  },
  {
   "cell_type": "code",
   "execution_count": 25,
   "metadata": {},
   "outputs": [
    {
     "name": "stdout",
     "output_type": "stream",
     "text": [
      "{'_id': 'abc', 'average_price': 60.0, 'average_quantity': 6.0}\n",
      "{'_id': 'xyz', 'average_price': 37.5, 'average_quantity': 7.5}\n",
      "{'_id': 'jkl', 'average_price': 20.0, 'average_quantity': 1.0}\n"
     ]
    }
   ],
   "source": [
    "for x in agg4:\n",
    "    print(x)"
   ]
  },
  {
   "cell_type": "code",
   "execution_count": null,
   "metadata": {},
   "outputs": [],
   "source": []
  },
  {
   "cell_type": "code",
   "execution_count": null,
   "metadata": {},
   "outputs": [],
   "source": []
  },
  {
   "cell_type": "markdown",
   "metadata": {},
   "source": [
    "### Use of project"
   ]
  },
  {
   "cell_type": "code",
   "execution_count": 36,
   "metadata": {},
   "outputs": [],
   "source": [
    "# new collection\n",
    "mycol3 = mydb['grocery_product']"
   ]
  },
  {
   "cell_type": "code",
   "execution_count": 37,
   "metadata": {},
   "outputs": [],
   "source": [
    "grocery_data=[{\n",
    "  \"_id\" : 1,\n",
    "  \"title\": \"abc123\",\n",
    "  \"isbn\": \"0001122223334\",\n",
    "  \"author\": { \"last\": \"zzz\", \"first\": \"aaa\" },\n",
    "  \"copies\": 5\n",
    "},\n",
    "{\n",
    "  \"_id\" : 2,\n",
    "  \"title\": \"Baked Goods\",\n",
    "  \"isbn\": \"9999999999999\",\n",
    "  \"author\": { \"last\": \"xyz\", \"first\": \"abc\", \"middle\": \"\" },\n",
    "  \"copies\": 2\n",
    "},\n",
    "{\n",
    "  \"_id\" : 3,\n",
    "  \"title\": \"vegetable Goods\",\n",
    "  \"isbn\": \"12698475\",\n",
    "  \"author\": { \"last\": \"abh\", \"first\": \"aaa\", \"middle\": \"\" },\n",
    "  \"copies\": 2\n",
    "},\n",
    "{\n",
    "  \"_id\" : 4,\n",
    "  \"title\": \"meat Goods\",\n",
    "  \"isbn\": \"23435123632\",\n",
    "  \"author\": { \"last\": \"ewe\", \"first\": \"jtyt\", \"middle\": \"\" },\n",
    "  \"copies\": 2\n",
    "}\n",
    "]"
   ]
  },
  {
   "cell_type": "code",
   "execution_count": 38,
   "metadata": {},
   "outputs": [
    {
     "data": {
      "text/plain": [
       "<pymongo.results.InsertManyResult at 0x7f102015f600>"
      ]
     },
     "execution_count": 38,
     "metadata": {},
     "output_type": "execute_result"
    }
   ],
   "source": [
    "mycol3.insert_many(grocery_data)"
   ]
  },
  {
   "cell_type": "code",
   "execution_count": 39,
   "metadata": {},
   "outputs": [
    {
     "name": "stdout",
     "output_type": "stream",
     "text": [
      "{'_id': 1, 'title': 'abc123', 'isbn': '0001122223334', 'author': {'last': 'zzz', 'first': 'aaa'}, 'copies': 5}\n",
      "{'_id': 2, 'title': 'Baked Goods', 'isbn': '9999999999999', 'author': {'last': 'xyz', 'first': 'abc', 'middle': ''}, 'copies': 2}\n",
      "{'_id': 3, 'title': 'vegetable Goods', 'isbn': '12698475', 'author': {'last': 'abh', 'first': 'aaa', 'middle': ''}, 'copies': 2}\n",
      "{'_id': 4, 'title': 'meat Goods', 'isbn': '23435123632', 'author': {'last': 'ewe', 'first': 'jtyt', 'middle': ''}, 'copies': 2}\n"
     ]
    }
   ],
   "source": [
    "for x in mycol3.find():\n",
    "    print(x)"
   ]
  },
  {
   "cell_type": "code",
   "execution_count": 43,
   "metadata": {},
   "outputs": [
    {
     "name": "stdout",
     "output_type": "stream",
     "text": [
      "{'_id': 1, 'title': 'abc123', 'copies': 5}\n",
      "{'_id': 2, 'title': 'Baked Goods', 'copies': 2}\n",
      "{'_id': 3, 'title': 'vegetable Goods', 'copies': 2}\n",
      "{'_id': 4, 'title': 'meat Goods', 'copies': 2}\n"
     ]
    }
   ],
   "source": [
    "# Use of $project\n",
    "for x in mycol3.aggregate([{\"$project\": {\"title\":1, \"copies\":1}}]):\n",
    "    print(x)"
   ]
  },
  {
   "cell_type": "code",
   "execution_count": null,
   "metadata": {},
   "outputs": [],
   "source": []
  },
  {
   "cell_type": "code",
   "execution_count": null,
   "metadata": {},
   "outputs": [],
   "source": []
  },
  {
   "cell_type": "markdown",
   "metadata": {},
   "source": [
    "### Use of add"
   ]
  },
  {
   "cell_type": "code",
   "execution_count": 12,
   "metadata": {},
   "outputs": [],
   "source": [
    "mycol4 = mydb[\"sales\"]"
   ]
  },
  {
   "cell_type": "code",
   "execution_count": 18,
   "metadata": {},
   "outputs": [
    {
     "data": {
      "text/plain": [
       "<pymongo.results.InsertManyResult at 0x7faea8216140>"
      ]
     },
     "execution_count": 18,
     "metadata": {},
     "output_type": "execute_result"
    }
   ],
   "source": [
    "mycol4.insert_many([\n",
    "{ \"_id\" : 1, \"item\" : \"abc\", \"price\" : 10, \"fee\" : 2, \"date\": \"2014-03-01T08:00:00Z\"},\n",
    "{ \"_id\" : 2, \"item\" : \"jkl\", \"price\" : 20, \"fee\" : 1, \"date\": \"2014-03-01T09:00:00Z\"},\n",
    "{ \"_id\" : 3, \"item\" : \"xyz\", \"price\" : 5,  \"fee\" : 0, \"date\": \"2014-03-15T09:00:00Z\"}\n",
    "])"
   ]
  },
  {
   "cell_type": "code",
   "execution_count": 19,
   "metadata": {},
   "outputs": [],
   "source": [
    "agg_sale = mycol4.aggregate([\n",
    "    {\n",
    "        \"$project\":\n",
    "        {\n",
    "            \"item\": 1,\n",
    "            \"total\": {\"$add\": [\"$price\", \"$fee\"]}\n",
    "        }\n",
    "    }\n",
    "])"
   ]
  },
  {
   "cell_type": "code",
   "execution_count": 20,
   "metadata": {},
   "outputs": [
    {
     "name": "stdout",
     "output_type": "stream",
     "text": [
      "{'_id': 1, 'item': 'abc', 'total': 12}\n",
      "{'_id': 2, 'item': 'jkl', 'total': 21}\n",
      "{'_id': 3, 'item': 'xyz', 'total': 5}\n"
     ]
    }
   ],
   "source": [
    "for x in agg_sale:\n",
    "    print(x)"
   ]
  },
  {
   "cell_type": "code",
   "execution_count": null,
   "metadata": {},
   "outputs": [],
   "source": []
  },
  {
   "cell_type": "code",
   "execution_count": null,
   "metadata": {},
   "outputs": [],
   "source": []
  },
  {
   "cell_type": "markdown",
   "metadata": {},
   "source": [
    "### Use of abs"
   ]
  },
  {
   "cell_type": "code",
   "execution_count": 22,
   "metadata": {},
   "outputs": [],
   "source": [
    "mycol5 = mydb[\"rating\"]"
   ]
  },
  {
   "cell_type": "code",
   "execution_count": 24,
   "metadata": {},
   "outputs": [
    {
     "data": {
      "text/plain": [
       "<pymongo.results.InsertManyResult at 0x7faea8219a80>"
      ]
     },
     "execution_count": 24,
     "metadata": {},
     "output_type": "execute_result"
    }
   ],
   "source": [
    "mycol5.insert_many([\n",
    "    { \"_id\": 1, \"start\": 5, \"end\": 8 },\n",
    "    { \"_id\": 2, \"start\": 4, \"end\": 4 },\n",
    "    { \"_id\": 3, \"start\": 9, \"end\": 7 },\n",
    "    { \"_id\": 4, \"start\": 6, \"end\": 7 }\n",
    "])"
   ]
  },
  {
   "cell_type": "code",
   "execution_count": 26,
   "metadata": {},
   "outputs": [],
   "source": [
    "agg_rating = mycol5.aggregate([\n",
    "    {\n",
    "        \"$project\":\n",
    "        {\n",
    "            \"delta\": {\"$abs\": {\"$subtract\": [\"$start\", \"$end\"]}}\n",
    "        }\n",
    "    }\n",
    "])\n",
    "\n"
   ]
  },
  {
   "cell_type": "code",
   "execution_count": 28,
   "metadata": {},
   "outputs": [
    {
     "name": "stdout",
     "output_type": "stream",
     "text": [
      "{'_id': 1, 'delta': 3}\n",
      "{'_id': 2, 'delta': 0}\n",
      "{'_id': 3, 'delta': 2}\n",
      "{'_id': 4, 'delta': 1}\n"
     ]
    }
   ],
   "source": [
    "for x in agg_rating:\n",
    "    print(x)"
   ]
  },
  {
   "cell_type": "code",
   "execution_count": null,
   "metadata": {},
   "outputs": [],
   "source": []
  },
  {
   "cell_type": "code",
   "execution_count": null,
   "metadata": {},
   "outputs": [],
   "source": []
  },
  {
   "cell_type": "markdown",
   "metadata": {},
   "source": [
    "### Use of addToSet"
   ]
  },
  {
   "cell_type": "code",
   "execution_count": 38,
   "metadata": {},
   "outputs": [],
   "source": [
    "mycol6 = mydb[\"sale_info\"]"
   ]
  },
  {
   "cell_type": "code",
   "execution_count": 39,
   "metadata": {},
   "outputs": [
    {
     "data": {
      "text/plain": [
       "<pymongo.results.InsertManyResult at 0x7faea80c0880>"
      ]
     },
     "execution_count": 39,
     "metadata": {},
     "output_type": "execute_result"
    }
   ],
   "source": [
    "mycol6.insert_many([\n",
    "{ \"_id\" : 1, \"item\" : \"abc\", \"price\" : 10, \"quantity\" : 2, \"date\" : datetime.datetime(2014, 1, 1, 8, 0, 0) },\n",
    "{ \"_id\" : 2, \"item\" : \"jkl\", \"price\" : 20, \"quantity\" : 1, \"date\" : datetime.datetime(2014, 2, 3, 9, 0, 0) },\n",
    "{ \"_id\" : 3, \"item\" : \"xyz\", \"price\" : 5, \"quantity\" : 5, \"date\" : datetime.datetime(2014, 2, 3, 9, 5, 0) },\n",
    "{ \"_id\" : 4, \"item\" : \"abc\", \"price\" : 10, \"quantity\" : 10, \"date\" : datetime.datetime(2014, 2, 15, 8, 0, 0) },\n",
    "{ \"_id\" : 5, \"item\" : \"xyz\", \"price\" : 5, \"quantity\" : 10, \"date\" : datetime.datetime(2014, 2, 15, 9, 12, 0) }\n",
    "])"
   ]
  },
  {
   "cell_type": "code",
   "execution_count": 40,
   "metadata": {},
   "outputs": [],
   "source": [
    "agg_sale_info = mycol6.aggregate([\n",
    "    {\n",
    "        \"$group\":\n",
    "        {\n",
    "            \"_id\": {\"day\": {\"$dayOfYear\": \"$date\"}, \"year\": {\"$year\": \"$date\"}},\n",
    "            \"product\": {\"$addToSet\": \"$item\"}\n",
    "        }\n",
    "    }\n",
    "])\n"
   ]
  },
  {
   "cell_type": "code",
   "execution_count": 41,
   "metadata": {},
   "outputs": [
    {
     "name": "stdout",
     "output_type": "stream",
     "text": [
      "{'_id': {'day': 1, 'year': 2014}, 'product': ['abc']}\n",
      "{'_id': {'day': 34, 'year': 2014}, 'product': ['xyz', 'jkl']}\n",
      "{'_id': {'day': 46, 'year': 2014}, 'product': ['xyz', 'abc']}\n"
     ]
    }
   ],
   "source": [
    "for x in agg_sale_info:\n",
    "    print(x)"
   ]
  },
  {
   "cell_type": "code",
   "execution_count": null,
   "metadata": {},
   "outputs": [],
   "source": []
  },
  {
   "cell_type": "code",
   "execution_count": null,
   "metadata": {},
   "outputs": [],
   "source": []
  },
  {
   "cell_type": "markdown",
   "metadata": {},
   "source": [
    "### Use of and "
   ]
  },
  {
   "cell_type": "code",
   "execution_count": 43,
   "metadata": {},
   "outputs": [],
   "source": [
    "mycol7 = mydb[\"inventory\"]"
   ]
  },
  {
   "cell_type": "code",
   "execution_count": 46,
   "metadata": {},
   "outputs": [
    {
     "data": {
      "text/plain": [
       "<pymongo.results.InsertManyResult at 0x7faea94558c0>"
      ]
     },
     "execution_count": 46,
     "metadata": {},
     "output_type": "execute_result"
    }
   ],
   "source": [
    "mycol7.insert_many([\n",
    "   { \"_id\" : 1, \"item\" : \"abc1\", \"description\": \"product 1\", \"qty\": 300 },\n",
    "   { \"_id\" : 2, \"item\" : \"abc2\", \"description\": \"product 2\", \"qty\": 200 },\n",
    "   { \"_id\" : 3, \"item\" : \"xyz1\", \"description\": \"product 3\", \"qty\": 250 },\n",
    "   { \"_id\" : 4, \"item\" : \"VWZ1\", \"description\": \"product 4\", \"qty\": 300 },\n",
    "   { \"_id\" : 5, \"item\" : \"VWZ2\", \"description\": \"product 5\", \"qty\": 180 }\n",
    "])"
   ]
  },
  {
   "cell_type": "code",
   "execution_count": 67,
   "metadata": {},
   "outputs": [],
   "source": [
    "agg_inverntory = mycol7.aggregate([\n",
    "    {\n",
    "        \"$project\":\n",
    "        {\n",
    "            \"item\": 1,\n",
    "            \"qty\": 1,\n",
    "            \"fixed_sale\": {\"$and\": [{\"$gt\": [\"$qty\", 100]}, {\"$lt\": [\"$qty\", 250]}]}\n",
    "        }\n",
    "    }\n",
    "])"
   ]
  },
  {
   "cell_type": "code",
   "execution_count": 68,
   "metadata": {},
   "outputs": [
    {
     "name": "stdout",
     "output_type": "stream",
     "text": [
      "{'_id': 1, 'item': 'abc1', 'qty': 300, 'fixed_sale': False}\n",
      "{'_id': 2, 'item': 'abc2', 'qty': 200, 'fixed_sale': True}\n",
      "{'_id': 3, 'item': 'xyz1', 'qty': 250, 'fixed_sale': False}\n",
      "{'_id': 4, 'item': 'VWZ1', 'qty': 300, 'fixed_sale': False}\n",
      "{'_id': 5, 'item': 'VWZ2', 'qty': 180, 'fixed_sale': True}\n"
     ]
    }
   ],
   "source": [
    "for x in agg_inverntory:\n",
    "    print(x)"
   ]
  },
  {
   "cell_type": "code",
   "execution_count": 73,
   "metadata": {},
   "outputs": [],
   "source": [
    "agg_inventory2 = mycol7.aggregate([\n",
    "    {\n",
    "        \"$project\":\n",
    "        {\n",
    "            \"item\": 1,\n",
    "            \"qty\": 1,\n",
    "            \"_id\": 0,\n",
    "            \"fixed_sale\": {\"$and\": [{\"$gt\": [\"$qty\", 100]}, {\"$lt\": [\"$qty\", 250]}]}\n",
    "        }\n",
    "    }\n",
    "])"
   ]
  },
  {
   "cell_type": "code",
   "execution_count": 74,
   "metadata": {},
   "outputs": [
    {
     "name": "stdout",
     "output_type": "stream",
     "text": [
      "{'item': 'abc1', 'qty': 300, 'fixed_sale': False}\n",
      "{'item': 'abc2', 'qty': 200, 'fixed_sale': True}\n",
      "{'item': 'xyz1', 'qty': 250, 'fixed_sale': False}\n",
      "{'item': 'VWZ1', 'qty': 300, 'fixed_sale': False}\n",
      "{'item': 'VWZ2', 'qty': 180, 'fixed_sale': True}\n"
     ]
    }
   ],
   "source": [
    "for x in agg_inventory2:\n",
    "    print(x)"
   ]
  },
  {
   "cell_type": "code",
   "execution_count": 93,
   "metadata": {},
   "outputs": [],
   "source": [
    "a = mycol7.find({\"qty\": {\"$gt\": 200}})\n"
   ]
  },
  {
   "cell_type": "code",
   "execution_count": 94,
   "metadata": {},
   "outputs": [
    {
     "name": "stdout",
     "output_type": "stream",
     "text": [
      "{'_id': 1, 'item': 'abc1', 'description': 'product 1', 'qty': 300}\n",
      "{'_id': 3, 'item': 'xyz1', 'description': 'product 3', 'qty': 250}\n",
      "{'_id': 4, 'item': 'VWZ1', 'description': 'product 4', 'qty': 300}\n"
     ]
    }
   ],
   "source": [
    "for x in a:\n",
    "    print(x)"
   ]
  },
  {
   "cell_type": "code",
   "execution_count": null,
   "metadata": {},
   "outputs": [],
   "source": []
  },
  {
   "cell_type": "code",
   "execution_count": null,
   "metadata": {},
   "outputs": [],
   "source": []
  },
  {
   "cell_type": "markdown",
   "metadata": {},
   "source": [
    "### Use of allElementsTrue"
   ]
  },
  {
   "cell_type": "code",
   "execution_count": 3,
   "metadata": {},
   "outputs": [],
   "source": [
    "mycol8 = mydb['survey']"
   ]
  },
  {
   "cell_type": "code",
   "execution_count": 6,
   "metadata": {},
   "outputs": [
    {
     "data": {
      "text/plain": [
       "<pymongo.results.InsertManyResult at 0x7fd2b9b6d200>"
      ]
     },
     "execution_count": 6,
     "metadata": {},
     "output_type": "execute_result"
    }
   ],
   "source": [
    "mycol8.insert_many([\n",
    "   { \"_id\" : 1, \"responses\" : [ 'true' ] },\n",
    "   { \"_id\" : 2, \"responses\" : [ 'true', 'false' ] },\n",
    "   { \"_id\" : 3, \"responses\" : [ ] },\n",
    "   { \"_id\" : 4, \"responses\" : [ 1, 'true', \"seven\" ] },\n",
    "   { \"_id\" : 5, \"responses\" : [ 0 ] },\n",
    "   { \"_id\" : 6, \"responses\" : [ [ ] ] },\n",
    "   { \"_id\" : 7, \"responses\" : [ [ 0 ] ] },\n",
    "   { \"_id\" : 8, \"responses\" : [ [ 'false' ] ] },\n",
    "   { \"_id\" : 9, \"responses\" : [ 'null' ] },\n",
    "   { \"_id\" : 10, \"responses\" : [ 'undefined' ] }\n",
    "])"
   ]
  },
  {
   "cell_type": "code",
   "execution_count": 8,
   "metadata": {},
   "outputs": [],
   "source": [
    "agg_survey = mycol8.aggregate([\n",
    "    {\n",
    "        \"$project\":\n",
    "        {\n",
    "            'responses':1,\n",
    "            'for_check': {\"$allElementsTrue\": '$responses'}, '_id': 0\n",
    "        }\n",
    "    }\n",
    "])"
   ]
  },
  {
   "cell_type": "code",
   "execution_count": 9,
   "metadata": {},
   "outputs": [
    {
     "name": "stdout",
     "output_type": "stream",
     "text": [
      "{'responses': ['true'], 'for_check': True}\n",
      "{'responses': ['true', 'false'], 'for_check': True}\n",
      "{'responses': [], 'for_check': True}\n",
      "{'responses': [1, 'true', 'seven'], 'for_check': True}\n",
      "{'responses': [0], 'for_check': False}\n",
      "{'responses': [[]], 'for_check': True}\n",
      "{'responses': [[0]], 'for_check': True}\n",
      "{'responses': [['false']], 'for_check': True}\n",
      "{'responses': ['null'], 'for_check': True}\n",
      "{'responses': ['undefined'], 'for_check': True}\n"
     ]
    }
   ],
   "source": [
    "for x in agg_survey:\n",
    "    print(x)"
   ]
  },
  {
   "cell_type": "code",
   "execution_count": null,
   "metadata": {},
   "outputs": [],
   "source": []
  },
  {
   "cell_type": "code",
   "execution_count": null,
   "metadata": {},
   "outputs": [],
   "source": []
  },
  {
   "cell_type": "markdown",
   "metadata": {},
   "source": [
    "### Use of anyElementsTrue"
   ]
  },
  {
   "cell_type": "code",
   "execution_count": 11,
   "metadata": {},
   "outputs": [],
   "source": [
    "agg_survey2 = mycol8.aggregate([\n",
    "    {\n",
    "        \"$project\":\n",
    "        {\n",
    "            'responses':1,\n",
    "            'for_check': {\"$anyElementTrue\": '$responses'}, '_id': 0\n",
    "        }\n",
    "    }\n",
    "])"
   ]
  },
  {
   "cell_type": "code",
   "execution_count": 12,
   "metadata": {},
   "outputs": [
    {
     "name": "stdout",
     "output_type": "stream",
     "text": [
      "{'responses': ['true'], 'for_check': True}\n",
      "{'responses': ['true', 'false'], 'for_check': True}\n",
      "{'responses': [], 'for_check': False}\n",
      "{'responses': [1, 'true', 'seven'], 'for_check': True}\n",
      "{'responses': [0], 'for_check': False}\n",
      "{'responses': [[]], 'for_check': True}\n",
      "{'responses': [[0]], 'for_check': True}\n",
      "{'responses': [['false']], 'for_check': True}\n",
      "{'responses': ['null'], 'for_check': True}\n",
      "{'responses': ['undefined'], 'for_check': True}\n"
     ]
    }
   ],
   "source": [
    "for x in agg_survey2:\n",
    "    print(x)"
   ]
  },
  {
   "cell_type": "code",
   "execution_count": null,
   "metadata": {},
   "outputs": [],
   "source": []
  },
  {
   "cell_type": "code",
   "execution_count": null,
   "metadata": {},
   "outputs": [],
   "source": []
  },
  {
   "cell_type": "markdown",
   "metadata": {},
   "source": [
    "### Use of arrayElemAt"
   ]
  },
  {
   "cell_type": "code",
   "execution_count": 18,
   "metadata": {},
   "outputs": [],
   "source": [
    "mycol9 = mydb['users']"
   ]
  },
  {
   "cell_type": "code",
   "execution_count": 19,
   "metadata": {},
   "outputs": [
    {
     "data": {
      "text/plain": [
       "<pymongo.results.InsertManyResult at 0x7fd2b9aabe80>"
      ]
     },
     "execution_count": 19,
     "metadata": {},
     "output_type": "execute_result"
    }
   ],
   "source": [
    "mycol9.insert_many([\n",
    "{ \"_id\" : 1, \"name\" : \"dave123\", 'favorites': [ \"chocolate\", \"cake\", \"butter\", \"apples\" ] },\n",
    "{ \"_id\" : 2, \"name\" : \"li\", 'favorites': [ \"apples\", \"pudding\", \"pie\" ] },\n",
    "{ \"_id\" : 3, \"name\" : \"ahn\", 'favorites': [ \"pears\", \"pecans\", \"chocolate\", \"cherries\" ] },\n",
    "{ \"_id\" : 4, \"name\" : \"ty\", 'favorites': [ \"ice cream\" ] }\n",
    "])"
   ]
  },
  {
   "cell_type": "code",
   "execution_count": 21,
   "metadata": {},
   "outputs": [],
   "source": [
    "user_agg = mycol9.aggregate([\n",
    "    {\n",
    "        \"$project\":\n",
    "        {\n",
    "            '_id':1,\n",
    "            \"name\": 1,\n",
    "            'first': {\"$arrayElemAt\": ['$favorites', 0]},\n",
    "            'last': {\"$arrayElemAt\": ['$favorites', -1]}\n",
    "        }\n",
    "    }\n",
    "])"
   ]
  },
  {
   "cell_type": "code",
   "execution_count": 22,
   "metadata": {},
   "outputs": [
    {
     "name": "stdout",
     "output_type": "stream",
     "text": [
      "{'_id': 1, 'name': 'dave123', 'first': 'chocolate', 'last': 'apples'}\n",
      "{'_id': 2, 'name': 'li', 'first': 'apples', 'last': 'pie'}\n",
      "{'_id': 3, 'name': 'ahn', 'first': 'pears', 'last': 'cherries'}\n",
      "{'_id': 4, 'name': 'ty', 'first': 'ice cream', 'last': 'ice cream'}\n"
     ]
    }
   ],
   "source": [
    "for x in user_agg:\n",
    "    print(x)"
   ]
  },
  {
   "cell_type": "code",
   "execution_count": null,
   "metadata": {},
   "outputs": [],
   "source": []
  },
  {
   "cell_type": "code",
   "execution_count": null,
   "metadata": {},
   "outputs": [],
   "source": []
  },
  {
   "cell_type": "markdown",
   "metadata": {},
   "source": [
    "### Use of arrayToObject"
   ]
  },
  {
   "cell_type": "code",
   "execution_count": 23,
   "metadata": {},
   "outputs": [],
   "source": [
    "mycol10 = mydb['invent']"
   ]
  },
  {
   "cell_type": "code",
   "execution_count": 25,
   "metadata": {},
   "outputs": [
    {
     "data": {
      "text/plain": [
       "<pymongo.results.InsertManyResult at 0x7fd2b9ab2340>"
      ]
     },
     "execution_count": 25,
     "metadata": {},
     "output_type": "execute_result"
    }
   ],
   "source": [
    "mycol10.insert_many([\n",
    "{ \"_id\" : 1, \"item\" : \"ABC1\",  'dimensions': [ { \"k\": \"l\", \"v\": 25} , { \"k\": \"w\", \"v\": 10 }, { \"k\": \"uom\", \"v\": \"cm\" } ] },\n",
    "{ \"_id\" : 2, \"item\" : \"ABC2\",  'dimensions': [ [ \"l\", 50 ], [ \"w\",  25 ], [ \"uom\", \"cm\" ] ] },\n",
    "{ \"_id\" : 3, \"item\" : \"ABC3\",  'dimensions': [ [ \"l\", 25 ], [ \"l\",  \"cm\" ], [ \"l\", 50 ] ] }\n",
    "]) "
   ]
  },
  {
   "cell_type": "code",
   "execution_count": 26,
   "metadata": {},
   "outputs": [],
   "source": [
    "invent_agg = mycol10.aggregate([\n",
    "    {\n",
    "        \"$project\":\n",
    "        {\n",
    "            \"item\":1,\n",
    "            'new_array': {\"$arrayToObject\": '$dimensions'}\n",
    "        }\n",
    "    }\n",
    "])"
   ]
  },
  {
   "cell_type": "code",
   "execution_count": 27,
   "metadata": {},
   "outputs": [
    {
     "name": "stdout",
     "output_type": "stream",
     "text": [
      "{'_id': 1, 'item': 'ABC1', 'new_array': {'l': 25, 'w': 10, 'uom': 'cm'}}\n",
      "{'_id': 2, 'item': 'ABC2', 'new_array': {'l': 50, 'w': 25, 'uom': 'cm'}}\n",
      "{'_id': 3, 'item': 'ABC3', 'new_array': {'l': 50}}\n"
     ]
    }
   ],
   "source": [
    "for x in invent_agg:\n",
    "    print(x)"
   ]
  },
  {
   "cell_type": "code",
   "execution_count": null,
   "metadata": {},
   "outputs": [],
   "source": []
  },
  {
   "cell_type": "code",
   "execution_count": null,
   "metadata": {},
   "outputs": [],
   "source": []
  },
  {
   "cell_type": "markdown",
   "metadata": {},
   "source": [
    "### Use of avg"
   ]
  },
  {
   "cell_type": "code",
   "execution_count": 43,
   "metadata": {},
   "outputs": [],
   "source": [
    "mycol_data_sale = mydb['sale']"
   ]
  },
  {
   "cell_type": "code",
   "execution_count": 44,
   "metadata": {},
   "outputs": [
    {
     "data": {
      "text/plain": [
       "<pymongo.results.InsertManyResult at 0x7fd2b9a97680>"
      ]
     },
     "execution_count": 44,
     "metadata": {},
     "output_type": "execute_result"
    }
   ],
   "source": [
    "mycol_data_sale.insert_many([\n",
    "{ \"_id\": 123, \"item\" : \"abc\", \"price\" : 10, \"quantity\" : 2},\n",
    "{ \"_id\": 234, \"item\" : \"jkl\", \"price\" : 20, \"quantity\" : 1},\n",
    "{ \"_id\": 345, \"item\" : \"xyz\", \"price\" : 5, \"quantity\" : 5},\n",
    "{ \"_id\": 456, \"item\" : \"abc\", \"price\" : 10, \"quantity\" : 10},\n",
    "{ \"_id\": 567, \"item\" : \"xyz\", \"price\" : 5, \"quantity\" : 10}\n",
    "])"
   ]
  },
  {
   "cell_type": "code",
   "execution_count": 47,
   "metadata": {},
   "outputs": [],
   "source": [
    "sale_data = mycol_data_sale.aggregate([\n",
    "    {\n",
    "        \"$group\":\n",
    "        {\n",
    "            \"_id\": \"$item\",\n",
    "            \"total_price\": {\"$avg\": {\"$multiply\": ['$price', '$quantity']}},\n",
    "            \"quantity_avg\": {\"$avg\": \"$quantity\"}\n",
    "        }\n",
    "    }\n",
    "])"
   ]
  },
  {
   "cell_type": "code",
   "execution_count": 48,
   "metadata": {},
   "outputs": [
    {
     "name": "stdout",
     "output_type": "stream",
     "text": [
      "{'_id': 'jkl', 'total_price': 20.0, 'quantity_avg': 1.0}\n",
      "{'_id': 'xyz', 'total_price': 37.5, 'quantity_avg': 7.5}\n",
      "{'_id': 'abc', 'total_price': 60.0, 'quantity_avg': 6.0}\n"
     ]
    }
   ],
   "source": [
    "for x in sale_data:\n",
    "    print(x)"
   ]
  },
  {
   "cell_type": "code",
   "execution_count": null,
   "metadata": {},
   "outputs": [],
   "source": []
  },
  {
   "cell_type": "code",
   "execution_count": null,
   "metadata": {},
   "outputs": [],
   "source": []
  },
  {
   "cell_type": "code",
   "execution_count": 49,
   "metadata": {},
   "outputs": [],
   "source": [
    "mycol11 = mydb['student']"
   ]
  },
  {
   "cell_type": "code",
   "execution_count": 50,
   "metadata": {},
   "outputs": [
    {
     "data": {
      "text/plain": [
       "<pymongo.results.InsertManyResult at 0x7fd2b9abb440>"
      ]
     },
     "execution_count": 50,
     "metadata": {},
     "output_type": "execute_result"
    }
   ],
   "source": [
    "mycol11.insert_many([\n",
    "{ \"_id\": 1, \"quizzes\": [ 10, 6, 7 ], \"labs\": [ 5, 8 ], \"final\": 80, \"midterm\": 75 },\n",
    "{ \"_id\": 2, \"quizzes\": [ 9, 10 ], \"labs\": [ 8, 8 ], \"final\": 95, \"midterm\": 80 },\n",
    "{ \"_id\": 3, \"quizzes\": [ 4, 5, 5 ], \"labs\": [ 6, 5 ], \"final\": 78, \"midterm\": 70 }\n",
    "])"
   ]
  },
  {
   "cell_type": "code",
   "execution_count": 51,
   "metadata": {},
   "outputs": [],
   "source": [
    "mycol11_aggre = mycol11.aggregate([\n",
    "    {\n",
    "        \"$project\":\n",
    "        {\n",
    "            \"avg_quiz\":{\"$avg\": \"$quizzes\"}, \"avg_lab\":{\"$avg\": \"$labs\"}, \"avg_final_mid\":{\"$avg\": [\"$final\", \"$midterm\"]}\n",
    "        }\n",
    "    }\n",
    "])"
   ]
  },
  {
   "cell_type": "code",
   "execution_count": 52,
   "metadata": {},
   "outputs": [
    {
     "name": "stdout",
     "output_type": "stream",
     "text": [
      "{'_id': 1, 'avg_quiz': 7.666666666666667, 'avg_lab': 6.5, 'avg_final_mid': 77.5}\n",
      "{'_id': 2, 'avg_quiz': 9.5, 'avg_lab': 8.0, 'avg_final_mid': 87.5}\n",
      "{'_id': 3, 'avg_quiz': 4.666666666666667, 'avg_lab': 5.5, 'avg_final_mid': 74.0}\n"
     ]
    }
   ],
   "source": [
    "for x in mycol11_aggre:\n",
    "    print(x)"
   ]
  },
  {
   "cell_type": "code",
   "execution_count": null,
   "metadata": {},
   "outputs": [],
   "source": []
  },
  {
   "cell_type": "code",
   "execution_count": null,
   "metadata": {},
   "outputs": [],
   "source": []
  }
 ],
 "metadata": {
  "kernelspec": {
   "display_name": "Python 3",
   "language": "python",
   "name": "python3"
  },
  "language_info": {
   "codemirror_mode": {
    "name": "ipython",
    "version": 3
   },
   "file_extension": ".py",
   "mimetype": "text/x-python",
   "name": "python",
   "nbconvert_exporter": "python",
   "pygments_lexer": "ipython3",
   "version": "3.8.3"
  }
 },
 "nbformat": 4,
 "nbformat_minor": 4
}
