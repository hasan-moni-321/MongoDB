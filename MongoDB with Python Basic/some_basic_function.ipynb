{
 "cells": [
  {
   "cell_type": "code",
   "execution_count": 1,
   "metadata": {},
   "outputs": [],
   "source": [
    "import pymongo"
   ]
  },
  {
   "cell_type": "code",
   "execution_count": 4,
   "metadata": {},
   "outputs": [
    {
     "name": "stdout",
     "output_type": "stream",
     "text": [
      "List of collections are :  ['admin', 'config', 'local', 'mydatabase']\n"
     ]
    }
   ],
   "source": [
    "myclient = pymongo.MongoClient(\"mongodb://localhost:27017\")\n",
    "mydb = myclient['mydatabase']\n",
    "print(\"List of collections are : \", myclient.list_database_names())\n",
    "\n",
    "# new collection\n",
    "mycol = mydb['worker']\n"
   ]
  },
  {
   "cell_type": "code",
   "execution_count": null,
   "metadata": {},
   "outputs": [],
   "source": []
  },
  {
   "cell_type": "code",
   "execution_count": 5,
   "metadata": {},
   "outputs": [
    {
     "name": "stdout",
     "output_type": "stream",
     "text": [
      "{'_id': ObjectId('5f66f0dac745662f4651c64a'), 'first_name': 'Hasan', 'last_name': 'Moni', 'address': 'sylhet', 'mobile': 167728, 'degree': 'B.Sc'}\n"
     ]
    }
   ],
   "source": [
    "#################################################################\n",
    "# Insert one object\n",
    "#################################################################\n",
    "\n",
    "# inserting some data\n",
    "my_query = {\"first_name\": \"Hasan\",\n",
    "            \"last_name\": \"Moni\",\n",
    "            \"address\": \"sylhet\",\n",
    "            \"mobile\": 167728,\n",
    "            'degree': 'B.Sc'}\n",
    "\n",
    "x = mycol.insert_one(my_query)\n",
    "\n",
    "for x in mycol.find():\n",
    "    print(x)"
   ]
  },
  {
   "cell_type": "code",
   "execution_count": null,
   "metadata": {},
   "outputs": [],
   "source": []
  },
  {
   "cell_type": "code",
   "execution_count": 6,
   "metadata": {},
   "outputs": [
    {
     "name": "stdout",
     "output_type": "stream",
     "text": [
      "Print information where _id=2 :  {'_id': 2, 'first_name': 'rana', 'last_name': 'mubarak', 'address': 'UK', 'mobile': 86645, 'degree': 'MBBS', 'age': 31}\n"
     ]
    }
   ],
   "source": [
    "####################################################################\n",
    "# Insert many query\n",
    "#####################################################################\n",
    "my_query2 = [{\n",
    "            \"_id\": 1,\n",
    "            \"first_name\": \"Hasan\",\n",
    "            \"last_name\": \"Moni\",\n",
    "            \"address\": \"sylhet\",\n",
    "            \"mobile\": 167728,\n",
    "            'degree': 'B.Sc',\n",
    "            'age': 26},\n",
    "            {\n",
    "            \"_id\": 2,\n",
    "            \"first_name\": \"rana\",\n",
    "            \"last_name\": \"mubarak\",\n",
    "            \"address\": \"UK\",\n",
    "            \"mobile\": 86645,\n",
    "            'degree': 'MBBS',\n",
    "            'age': 31},\n",
    "            {\n",
    "            \"_id\": 3,\n",
    "            \"first_name\": \"nadira\",\n",
    "            \"last_name\": \"akter\",\n",
    "            \"address\": \"sylhet\",\n",
    "            \"mobile\": 17,\n",
    "            'degree': 'Honours',\n",
    "            'age': 24}]\n",
    "\n",
    "y = mycol.insert_many(my_query2)\n",
    "for x in mycol.find({\"_id\": 2}):\n",
    "    print(\"Print information where _id=2 : \", x)\n"
   ]
  },
  {
   "cell_type": "code",
   "execution_count": null,
   "metadata": {},
   "outputs": [],
   "source": []
  },
  {
   "cell_type": "code",
   "execution_count": 7,
   "metadata": {},
   "outputs": [
    {
     "name": "stdout",
     "output_type": "stream",
     "text": [
      "Printing first object : {'_id': ObjectId('5f66f0dac745662f4651c64a'), 'first_name': 'Hasan', 'last_name': 'Moni', 'address': 'sylhet', 'mobile': 167728, 'degree': 'B.Sc'}\n"
     ]
    }
   ],
   "source": [
    "# use of find_one()\n",
    "print(\"Printing first object :\", mycol.find_one())\n"
   ]
  },
  {
   "cell_type": "code",
   "execution_count": null,
   "metadata": {},
   "outputs": [],
   "source": []
  },
  {
   "cell_type": "code",
   "execution_count": 8,
   "metadata": {},
   "outputs": [
    {
     "name": "stdout",
     "output_type": "stream",
     "text": [
      "{'_id': ObjectId('5f66f0dac745662f4651c64a'), 'first_name': 'Hasan', 'last_name': 'Moni', 'address': 'sylhet', 'mobile': 167728, 'degree': 'B.Sc'}\n",
      "{'_id': 1, 'first_name': 'Hasan', 'last_name': 'Moni', 'address': 'sylhet', 'mobile': 167728, 'degree': 'B.Sc', 'age': 26}\n",
      "{'_id': 2, 'first_name': 'rana', 'last_name': 'mubarak', 'address': 'UK', 'mobile': 86645, 'degree': 'MBBS', 'age': 31}\n",
      "{'_id': 3, 'first_name': 'nadira', 'last_name': 'akter', 'address': 'sylhet', 'mobile': 17, 'degree': 'Honours', 'age': 24}\n"
     ]
    }
   ],
   "source": [
    "# find() function print all of the information\n",
    "for x in mycol.find():\n",
    "    print(x)"
   ]
  },
  {
   "cell_type": "code",
   "execution_count": null,
   "metadata": {},
   "outputs": [],
   "source": []
  },
  {
   "cell_type": "code",
   "execution_count": 9,
   "metadata": {},
   "outputs": [
    {
     "name": "stdout",
     "output_type": "stream",
     "text": [
      "{'_id': 2, 'first_name': 'rana', 'last_name': 'mubarak', 'address': 'UK', 'mobile': 86645, 'degree': 'MBBS', 'age': 31}\n"
     ]
    }
   ],
   "source": [
    "# print all information where first_name='rana'\n",
    "for x in mycol.find({'first_name': 'rana'}):\n",
    "    print(x)"
   ]
  },
  {
   "cell_type": "code",
   "execution_count": null,
   "metadata": {},
   "outputs": [],
   "source": []
  },
  {
   "cell_type": "code",
   "execution_count": 10,
   "metadata": {},
   "outputs": [
    {
     "name": "stdout",
     "output_type": "stream",
     "text": [
      "{'_id': ObjectId('5f66f0dac745662f4651c64a'), 'first_name': 'Hasan', 'last_name': 'Moni', 'address': 'sylhet', 'mobile': 167728, 'degree': 'B.Sc'}\n",
      "{'_id': 1, 'first_name': 'Hasan', 'last_name': 'Moni', 'address': 'sylhet', 'mobile': 167728, 'degree': 'B.Sc', 'age': 26}\n"
     ]
    }
   ],
   "source": [
    "# use of \"$in\", \"$gt\", \"$lt\"\n",
    "for x in mycol.find({'degree': {\"$in\": [\"B.Sc\"]}}):\n",
    "    print(x)"
   ]
  },
  {
   "cell_type": "code",
   "execution_count": null,
   "metadata": {},
   "outputs": [],
   "source": []
  },
  {
   "cell_type": "code",
   "execution_count": 11,
   "metadata": {},
   "outputs": [
    {
     "name": "stdout",
     "output_type": "stream",
     "text": [
      "{'_id': 2, 'first_name': 'rana', 'last_name': 'mubarak', 'address': 'UK', 'mobile': 86645, 'degree': 'MBBS', 'age': 31}\n"
     ]
    }
   ],
   "source": [
    "# Use of conditional operation\n",
    "for x in mycol.find({'first_name': \"rana\", 'age': {\"$gt\": 25}}):  \n",
    "    print(x)"
   ]
  },
  {
   "cell_type": "code",
   "execution_count": null,
   "metadata": {},
   "outputs": [],
   "source": []
  },
  {
   "cell_type": "code",
   "execution_count": 12,
   "metadata": {},
   "outputs": [
    {
     "name": "stdout",
     "output_type": "stream",
     "text": [
      "{'_id': ObjectId('5f66f0dac745662f4651c64a'), 'first_name': 'Hasan', 'last_name': 'Moni', 'address': 'sylhet', 'mobile': 167728, 'degree': 'B.Sc'}\n",
      "{'_id': 1, 'first_name': 'Hasan', 'last_name': 'Moni', 'address': 'sylhet', 'mobile': 167728, 'degree': 'B.Sc', 'age': 26}\n",
      "{'_id': 2, 'first_name': 'rana', 'last_name': 'mubarak', 'address': 'UK', 'mobile': 86645, 'degree': 'MBBS', 'age': 31}\n"
     ]
    }
   ],
   "source": [
    "# Use of or operator\n",
    "for x in mycol.find({\"$or\": [{\"first_name\": \"rana\"},  {\"last_name\": \"Moni\"}]}):\n",
    "    print(x)"
   ]
  },
  {
   "cell_type": "code",
   "execution_count": null,
   "metadata": {},
   "outputs": [],
   "source": []
  },
  {
   "cell_type": "code",
   "execution_count": 16,
   "metadata": {},
   "outputs": [
    {
     "name": "stdout",
     "output_type": "stream",
     "text": [
      "{'_id': 2, 'first_name': 'rana', 'last_name': 'mubarak', 'address': 'UK', 'mobile': 86645, 'degree': 'MBBS', 'age': 31}\n"
     ]
    }
   ],
   "source": [
    "# Use of and operator\n",
    "for x in mycol.find({\"$and\" : [ {\"first_name\": 'rana'}, {\"age\": {'$gt': 24}} ]}):\n",
    "    print(x)"
   ]
  },
  {
   "cell_type": "code",
   "execution_count": null,
   "metadata": {},
   "outputs": [],
   "source": []
  },
  {
   "cell_type": "markdown",
   "metadata": {},
   "source": [
    "### Creating another collection"
   ]
  },
  {
   "cell_type": "code",
   "execution_count": 19,
   "metadata": {},
   "outputs": [],
   "source": [
    "mycol2 = mydb['employee_details']"
   ]
  },
  {
   "cell_type": "code",
   "execution_count": 21,
   "metadata": {},
   "outputs": [],
   "source": [
    "new_query = [{ 'item': \"journal\", 'qty': 25, 'size': { 'h': 14, 'w': 21,'uom': \"cm\" }, 'status': \"A\" },\n",
    "             { 'item': \"notebook\", 'qty': 50,'size': { 'h': 8.5, 'w': 11,'uom': \"in\" },'status': \"A\" },\n",
    "             { 'item': \"paper\", 'qty': 100, 'size': { 'h': 8.5, 'w': 11,'uom': \"in\" },'status': \"D\" },\n",
    "             { 'item': \"planner\", 'qty': 75, 'size': { 'h': 22.85,'w': 30,'uom': \"cm\" },'status': \"D\" },\n",
    "             { 'item': \"postcard\", 'qty': 45, 'size': { 'h': 10, 'w': 15.25,'uom': \"cm\" },'status': \"A\" }]"
   ]
  },
  {
   "cell_type": "code",
   "execution_count": 22,
   "metadata": {},
   "outputs": [
    {
     "data": {
      "text/plain": [
       "<pymongo.results.InsertManyResult at 0x7f0450230a40>"
      ]
     },
     "execution_count": 22,
     "metadata": {},
     "output_type": "execute_result"
    }
   ],
   "source": [
    "mycol2.insert_many(new_query)"
   ]
  },
  {
   "cell_type": "code",
   "execution_count": 23,
   "metadata": {},
   "outputs": [
    {
     "name": "stdout",
     "output_type": "stream",
     "text": [
      "{'_id': ObjectId('5f66f39ac745662f4651c64b'), 'item': 'journal', 'qty': 25, 'size': {'h': 14, 'w': 21, 'uom': 'cm'}, 'status': 'A'}\n",
      "{'_id': ObjectId('5f66f39ac745662f4651c64c'), 'item': 'notebook', 'qty': 50, 'size': {'h': 8.5, 'w': 11, 'uom': 'in'}, 'status': 'A'}\n",
      "{'_id': ObjectId('5f66f39ac745662f4651c64d'), 'item': 'paper', 'qty': 100, 'size': {'h': 8.5, 'w': 11, 'uom': 'in'}, 'status': 'D'}\n",
      "{'_id': ObjectId('5f66f39ac745662f4651c64e'), 'item': 'planner', 'qty': 75, 'size': {'h': 22.85, 'w': 30, 'uom': 'cm'}, 'status': 'D'}\n",
      "{'_id': ObjectId('5f66f39ac745662f4651c64f'), 'item': 'postcard', 'qty': 45, 'size': {'h': 10, 'w': 15.25, 'uom': 'cm'}, 'status': 'A'}\n"
     ]
    }
   ],
   "source": [
    "for x in mycol2.find():\n",
    "    print(x)"
   ]
  },
  {
   "cell_type": "code",
   "execution_count": 25,
   "metadata": {},
   "outputs": [
    {
     "name": "stdout",
     "output_type": "stream",
     "text": [
      "{'_id': ObjectId('5f66f39ac745662f4651c64b'), 'item': 'journal', 'qty': 25, 'size': {'h': 14, 'w': 21, 'uom': 'cm'}, 'status': 'A'}\n"
     ]
    }
   ],
   "source": [
    "for x in mycol2.find({'size': { 'h': 14, 'w': 21,'uom': \"cm\" }}):\n",
    "    print(x)"
   ]
  },
  {
   "cell_type": "code",
   "execution_count": null,
   "metadata": {},
   "outputs": [],
   "source": []
  },
  {
   "cell_type": "code",
   "execution_count": null,
   "metadata": {},
   "outputs": [],
   "source": []
  },
  {
   "cell_type": "code",
   "execution_count": null,
   "metadata": {},
   "outputs": [],
   "source": []
  }
 ],
 "metadata": {
  "kernelspec": {
   "display_name": "Python 3",
   "language": "python",
   "name": "python3"
  },
  "language_info": {
   "codemirror_mode": {
    "name": "ipython",
    "version": 3
   },
   "file_extension": ".py",
   "mimetype": "text/x-python",
   "name": "python",
   "nbconvert_exporter": "python",
   "pygments_lexer": "ipython3",
   "version": "3.8.3"
  }
 },
 "nbformat": 4,
 "nbformat_minor": 2
}
