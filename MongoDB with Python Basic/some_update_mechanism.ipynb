{
 "cells": [
  {
   "cell_type": "markdown",
   "metadata": {},
   "source": [
    "### Here I am going to use:\n",
    "\n",
    "1. update_one()\n",
    "2. update_many()\n",
    "3. replace_one()"
   ]
  },
  {
   "cell_type": "code",
   "execution_count": null,
   "metadata": {},
   "outputs": [],
   "source": []
  },
  {
   "cell_type": "code",
   "execution_count": 2,
   "metadata": {},
   "outputs": [],
   "source": [
    "import pymongo"
   ]
  },
  {
   "cell_type": "code",
   "execution_count": 6,
   "metadata": {},
   "outputs": [
    {
     "name": "stdout",
     "output_type": "stream",
     "text": [
      "List of collections are :  ['admin', 'config', 'local', 'mydatabase']\n"
     ]
    }
   ],
   "source": [
    "myclient = pymongo.MongoClient(\"mongodb://localhost:27017\")\n",
    "mydb = myclient['mydatabase']\n",
    "print(\"List of collections are : \", myclient.list_database_names())\n",
    "\n",
    "# new collection\n",
    "mycol = mydb['workers_employee']\n"
   ]
  },
  {
   "cell_type": "code",
   "execution_count": 7,
   "metadata": {},
   "outputs": [],
   "source": [
    "my_query = [\n",
    "    {\"item\": \"canvas\",\n",
    "     \"qty\": 100,\n",
    "     \"size\": {\"h\": 28, \"w\": 35.5, \"uom\": \"cm\"},\n",
    "     \"status\": \"A\"},\n",
    "    {\"item\": \"journal\",\n",
    "     \"qty\": 25,\n",
    "     \"size\": {\"h\": 14, \"w\": 21, \"uom\": \"cm\"},\n",
    "     \"status\": \"A\"},\n",
    "    {\"item\": \"mat\",\n",
    "     \"qty\": 85,\n",
    "     \"size\": {\"h\": 27.9, \"w\": 35.5, \"uom\": \"cm\"},\n",
    "     \"status\": \"A\"},\n",
    "    {\"item\": \"mousepad\",\n",
    "     \"qty\": 25,\n",
    "     \"size\": {\"h\": 19, \"w\": 22.85, \"uom\": \"cm\"},\n",
    "     \"status\": \"P\"},\n",
    "    {\"item\": \"notebook\",\n",
    "     \"qty\": 50,\n",
    "     \"size\": {\"h\": 8.5, \"w\": 11, \"uom\": \"in\"},\n",
    "     \"status\": \"P\"},\n",
    "    {\"item\": \"paper\",\n",
    "     \"qty\": 100,\n",
    "     \"size\": {\"h\": 8.5, \"w\": 11, \"uom\": \"in\"},\n",
    "     \"status\": \"D\"},\n",
    "    {\"item\": \"planner\",\n",
    "     \"qty\": 75,\n",
    "     \"size\": {\"h\": 22.85, \"w\": 30, \"uom\": \"cm\"},\n",
    "     \"status\": \"D\"},\n",
    "    {\"item\": \"postcard\",\n",
    "     \"qty\": 45,\n",
    "     \"size\": {\"h\": 10, \"w\": 15.25, \"uom\": \"cm\"},\n",
    "     \"status\": \"A\"},\n",
    "    {\"item\": \"sketchbook\",\n",
    "     \"qty\": 80,\n",
    "     \"size\": {\"h\": 14, \"w\": 21, \"uom\": \"cm\"},\n",
    "     \"status\": \"A\"},\n",
    "    {\"item\": \"sketch pad\",\n",
    "     \"qty\": 95,\n",
    "     \"size\": {\"h\": 22.85, \"w\": 30.5, \"uom\": \"cm\"},\n",
    "     \"status\": \"A\"}]"
   ]
  },
  {
   "cell_type": "code",
   "execution_count": 8,
   "metadata": {},
   "outputs": [
    {
     "name": "stdout",
     "output_type": "stream",
     "text": [
      "{'_id': ObjectId('5f6708a91bc627fd209b9c65'), 'item': 'canvas', 'qty': 100, 'size': {'h': 28, 'w': 35.5, 'uom': 'cm'}, 'status': 'A'}\n",
      "{'_id': ObjectId('5f6708a91bc627fd209b9c66'), 'item': 'journal', 'qty': 25, 'size': {'h': 14, 'w': 21, 'uom': 'cm'}, 'status': 'A'}\n",
      "{'_id': ObjectId('5f6708a91bc627fd209b9c67'), 'item': 'mat', 'qty': 85, 'size': {'h': 27.9, 'w': 35.5, 'uom': 'cm'}, 'status': 'A'}\n",
      "{'_id': ObjectId('5f6708a91bc627fd209b9c68'), 'item': 'mousepad', 'qty': 25, 'size': {'h': 19, 'w': 22.85, 'uom': 'cm'}, 'status': 'P'}\n",
      "{'_id': ObjectId('5f6708a91bc627fd209b9c69'), 'item': 'notebook', 'qty': 50, 'size': {'h': 8.5, 'w': 11, 'uom': 'in'}, 'status': 'P'}\n",
      "{'_id': ObjectId('5f6708a91bc627fd209b9c6a'), 'item': 'paper', 'qty': 100, 'size': {'h': 8.5, 'w': 11, 'uom': 'in'}, 'status': 'D'}\n",
      "{'_id': ObjectId('5f6708a91bc627fd209b9c6b'), 'item': 'planner', 'qty': 75, 'size': {'h': 22.85, 'w': 30, 'uom': 'cm'}, 'status': 'D'}\n",
      "{'_id': ObjectId('5f6708a91bc627fd209b9c6c'), 'item': 'postcard', 'qty': 45, 'size': {'h': 10, 'w': 15.25, 'uom': 'cm'}, 'status': 'A'}\n",
      "{'_id': ObjectId('5f6708a91bc627fd209b9c6d'), 'item': 'sketchbook', 'qty': 80, 'size': {'h': 14, 'w': 21, 'uom': 'cm'}, 'status': 'A'}\n",
      "{'_id': ObjectId('5f6708a91bc627fd209b9c6e'), 'item': 'sketch pad', 'qty': 95, 'size': {'h': 22.85, 'w': 30.5, 'uom': 'cm'}, 'status': 'A'}\n"
     ]
    }
   ],
   "source": [
    "# inserting new data\n",
    "mycol.insert_many(my_query)\n",
    "\n",
    "for x in mycol.find():\n",
    "    print(x)"
   ]
  },
  {
   "cell_type": "code",
   "execution_count": null,
   "metadata": {},
   "outputs": [],
   "source": []
  },
  {
   "cell_type": "markdown",
   "metadata": {},
   "source": [
    "### Use of update_one"
   ]
  },
  {
   "cell_type": "code",
   "execution_count": 9,
   "metadata": {},
   "outputs": [
    {
     "data": {
      "text/plain": [
       "<pymongo.results.UpdateResult at 0x7fdf884faa00>"
      ]
     },
     "execution_count": 9,
     "metadata": {},
     "output_type": "execute_result"
    }
   ],
   "source": [
    "# updating one\n",
    "mycol.update_one({\"item\": 'sketch pad'}, {\"$set\": {\"size.uom\": \"up_uom\", \"status\": \"A_update\"}}  )"
   ]
  },
  {
   "cell_type": "code",
   "execution_count": 10,
   "metadata": {},
   "outputs": [
    {
     "name": "stdout",
     "output_type": "stream",
     "text": [
      "{'_id': ObjectId('5f6708a91bc627fd209b9c65'), 'item': 'canvas', 'qty': 100, 'size': {'h': 28, 'w': 35.5, 'uom': 'cm'}, 'status': 'A'}\n",
      "{'_id': ObjectId('5f6708a91bc627fd209b9c66'), 'item': 'journal', 'qty': 25, 'size': {'h': 14, 'w': 21, 'uom': 'cm'}, 'status': 'A'}\n",
      "{'_id': ObjectId('5f6708a91bc627fd209b9c67'), 'item': 'mat', 'qty': 85, 'size': {'h': 27.9, 'w': 35.5, 'uom': 'cm'}, 'status': 'A'}\n",
      "{'_id': ObjectId('5f6708a91bc627fd209b9c68'), 'item': 'mousepad', 'qty': 25, 'size': {'h': 19, 'w': 22.85, 'uom': 'cm'}, 'status': 'P'}\n",
      "{'_id': ObjectId('5f6708a91bc627fd209b9c69'), 'item': 'notebook', 'qty': 50, 'size': {'h': 8.5, 'w': 11, 'uom': 'in'}, 'status': 'P'}\n",
      "{'_id': ObjectId('5f6708a91bc627fd209b9c6a'), 'item': 'paper', 'qty': 100, 'size': {'h': 8.5, 'w': 11, 'uom': 'in'}, 'status': 'D'}\n",
      "{'_id': ObjectId('5f6708a91bc627fd209b9c6b'), 'item': 'planner', 'qty': 75, 'size': {'h': 22.85, 'w': 30, 'uom': 'cm'}, 'status': 'D'}\n",
      "{'_id': ObjectId('5f6708a91bc627fd209b9c6c'), 'item': 'postcard', 'qty': 45, 'size': {'h': 10, 'w': 15.25, 'uom': 'cm'}, 'status': 'A'}\n",
      "{'_id': ObjectId('5f6708a91bc627fd209b9c6d'), 'item': 'sketchbook', 'qty': 80, 'size': {'h': 14, 'w': 21, 'uom': 'cm'}, 'status': 'A'}\n",
      "{'_id': ObjectId('5f6708a91bc627fd209b9c6e'), 'item': 'sketch pad', 'qty': 95, 'size': {'h': 22.85, 'w': 30.5, 'uom': 'up_uom'}, 'status': 'A_update'}\n"
     ]
    }
   ],
   "source": [
    "for x in mycol.find():\n",
    "    print(x)"
   ]
  },
  {
   "cell_type": "code",
   "execution_count": null,
   "metadata": {},
   "outputs": [],
   "source": []
  },
  {
   "cell_type": "code",
   "execution_count": 11,
   "metadata": {},
   "outputs": [
    {
     "data": {
      "text/plain": [
       "<pymongo.results.UpdateResult at 0x7fdf803e1640>"
      ]
     },
     "execution_count": 11,
     "metadata": {},
     "output_type": "execute_result"
    }
   ],
   "source": [
    "# Update and add date of update\n",
    "mycol.update_one({\"item\": \"sketchbook\"}, \n",
    "                 {\"$set\": {\"size.h\": 28, \"status\": \"AA\"}, \"$currentDate\": {\"last_modified\": True}} )"
   ]
  },
  {
   "cell_type": "code",
   "execution_count": 12,
   "metadata": {},
   "outputs": [
    {
     "name": "stdout",
     "output_type": "stream",
     "text": [
      "{'_id': ObjectId('5f6708a91bc627fd209b9c65'), 'item': 'canvas', 'qty': 100, 'size': {'h': 28, 'w': 35.5, 'uom': 'cm'}, 'status': 'A'}\n",
      "{'_id': ObjectId('5f6708a91bc627fd209b9c66'), 'item': 'journal', 'qty': 25, 'size': {'h': 14, 'w': 21, 'uom': 'cm'}, 'status': 'A'}\n",
      "{'_id': ObjectId('5f6708a91bc627fd209b9c67'), 'item': 'mat', 'qty': 85, 'size': {'h': 27.9, 'w': 35.5, 'uom': 'cm'}, 'status': 'A'}\n",
      "{'_id': ObjectId('5f6708a91bc627fd209b9c68'), 'item': 'mousepad', 'qty': 25, 'size': {'h': 19, 'w': 22.85, 'uom': 'cm'}, 'status': 'P'}\n",
      "{'_id': ObjectId('5f6708a91bc627fd209b9c69'), 'item': 'notebook', 'qty': 50, 'size': {'h': 8.5, 'w': 11, 'uom': 'in'}, 'status': 'P'}\n",
      "{'_id': ObjectId('5f6708a91bc627fd209b9c6a'), 'item': 'paper', 'qty': 100, 'size': {'h': 8.5, 'w': 11, 'uom': 'in'}, 'status': 'D'}\n",
      "{'_id': ObjectId('5f6708a91bc627fd209b9c6b'), 'item': 'planner', 'qty': 75, 'size': {'h': 22.85, 'w': 30, 'uom': 'cm'}, 'status': 'D'}\n",
      "{'_id': ObjectId('5f6708a91bc627fd209b9c6c'), 'item': 'postcard', 'qty': 45, 'size': {'h': 10, 'w': 15.25, 'uom': 'cm'}, 'status': 'A'}\n",
      "{'_id': ObjectId('5f6708a91bc627fd209b9c6d'), 'item': 'sketchbook', 'qty': 80, 'size': {'h': 28, 'w': 21, 'uom': 'cm'}, 'status': 'AA', 'last_modified': datetime.datetime(2020, 9, 20, 7, 45, 52, 280000)}\n",
      "{'_id': ObjectId('5f6708a91bc627fd209b9c6e'), 'item': 'sketch pad', 'qty': 95, 'size': {'h': 22.85, 'w': 30.5, 'uom': 'up_uom'}, 'status': 'A_update'}\n"
     ]
    }
   ],
   "source": [
    "for x in mycol.find():\n",
    "    print(x)"
   ]
  },
  {
   "cell_type": "code",
   "execution_count": null,
   "metadata": {},
   "outputs": [],
   "source": []
  },
  {
   "cell_type": "markdown",
   "metadata": {},
   "source": [
    "### Use of update_many"
   ]
  },
  {
   "cell_type": "code",
   "execution_count": 13,
   "metadata": {},
   "outputs": [
    {
     "data": {
      "text/plain": [
       "<pymongo.results.UpdateResult at 0x7fdf803c9d80>"
      ]
     },
     "execution_count": 13,
     "metadata": {},
     "output_type": "execute_result"
    }
   ],
   "source": [
    "mycol.update_many(\n",
    "    {\"qty\": {\"$lt\": 50}}, \n",
    "    {\"$set\": {\"size.h\": 150, \"status\": \"ABC\"},\n",
    "    \"$currentDate\": {\"date\": True}})"
   ]
  },
  {
   "cell_type": "code",
   "execution_count": 14,
   "metadata": {},
   "outputs": [
    {
     "name": "stdout",
     "output_type": "stream",
     "text": [
      "{'_id': ObjectId('5f6708a91bc627fd209b9c65'), 'item': 'canvas', 'qty': 100, 'size': {'h': 28, 'w': 35.5, 'uom': 'cm'}, 'status': 'A'}\n",
      "{'_id': ObjectId('5f6708a91bc627fd209b9c66'), 'item': 'journal', 'qty': 25, 'size': {'h': 150, 'w': 21, 'uom': 'cm'}, 'status': 'ABC', 'date': datetime.datetime(2020, 9, 20, 7, 45, 57, 888000)}\n",
      "{'_id': ObjectId('5f6708a91bc627fd209b9c67'), 'item': 'mat', 'qty': 85, 'size': {'h': 27.9, 'w': 35.5, 'uom': 'cm'}, 'status': 'A'}\n",
      "{'_id': ObjectId('5f6708a91bc627fd209b9c68'), 'item': 'mousepad', 'qty': 25, 'size': {'h': 150, 'w': 22.85, 'uom': 'cm'}, 'status': 'ABC', 'date': datetime.datetime(2020, 9, 20, 7, 45, 57, 888000)}\n",
      "{'_id': ObjectId('5f6708a91bc627fd209b9c69'), 'item': 'notebook', 'qty': 50, 'size': {'h': 8.5, 'w': 11, 'uom': 'in'}, 'status': 'P'}\n",
      "{'_id': ObjectId('5f6708a91bc627fd209b9c6a'), 'item': 'paper', 'qty': 100, 'size': {'h': 8.5, 'w': 11, 'uom': 'in'}, 'status': 'D'}\n",
      "{'_id': ObjectId('5f6708a91bc627fd209b9c6b'), 'item': 'planner', 'qty': 75, 'size': {'h': 22.85, 'w': 30, 'uom': 'cm'}, 'status': 'D'}\n",
      "{'_id': ObjectId('5f6708a91bc627fd209b9c6c'), 'item': 'postcard', 'qty': 45, 'size': {'h': 150, 'w': 15.25, 'uom': 'cm'}, 'status': 'ABC', 'date': datetime.datetime(2020, 9, 20, 7, 45, 57, 888000)}\n",
      "{'_id': ObjectId('5f6708a91bc627fd209b9c6d'), 'item': 'sketchbook', 'qty': 80, 'size': {'h': 28, 'w': 21, 'uom': 'cm'}, 'status': 'AA', 'last_modified': datetime.datetime(2020, 9, 20, 7, 45, 52, 280000)}\n",
      "{'_id': ObjectId('5f6708a91bc627fd209b9c6e'), 'item': 'sketch pad', 'qty': 95, 'size': {'h': 22.85, 'w': 30.5, 'uom': 'up_uom'}, 'status': 'A_update'}\n"
     ]
    }
   ],
   "source": [
    "for x in mycol.find():\n",
    "    print(x)"
   ]
  },
  {
   "cell_type": "code",
   "execution_count": null,
   "metadata": {},
   "outputs": [],
   "source": []
  },
  {
   "cell_type": "markdown",
   "metadata": {},
   "source": [
    "### Use of replace_one"
   ]
  },
  {
   "cell_type": "code",
   "execution_count": 15,
   "metadata": {},
   "outputs": [
    {
     "data": {
      "text/plain": [
       "<pymongo.results.UpdateResult at 0x7fdf803b1e40>"
      ]
     },
     "execution_count": 15,
     "metadata": {},
     "output_type": "execute_result"
    }
   ],
   "source": [
    "mycol.replace_one(\n",
    "    {\"item\": \"paper\"},\n",
    "    {\"item\": \"paper\",\n",
    "    \"instock\":[{\"warehous\": \"AAAA\", \"qty\": 100},{\"warehouse\": \"BBB\", \"qty\": 200}]\n",
    "    })"
   ]
  },
  {
   "cell_type": "code",
   "execution_count": 16,
   "metadata": {},
   "outputs": [
    {
     "name": "stdout",
     "output_type": "stream",
     "text": [
      "{'_id': ObjectId('5f6708a91bc627fd209b9c65'), 'item': 'canvas', 'qty': 100, 'size': {'h': 28, 'w': 35.5, 'uom': 'cm'}, 'status': 'A'}\n",
      "{'_id': ObjectId('5f6708a91bc627fd209b9c66'), 'item': 'journal', 'qty': 25, 'size': {'h': 150, 'w': 21, 'uom': 'cm'}, 'status': 'ABC', 'date': datetime.datetime(2020, 9, 20, 7, 45, 57, 888000)}\n",
      "{'_id': ObjectId('5f6708a91bc627fd209b9c67'), 'item': 'mat', 'qty': 85, 'size': {'h': 27.9, 'w': 35.5, 'uom': 'cm'}, 'status': 'A'}\n",
      "{'_id': ObjectId('5f6708a91bc627fd209b9c68'), 'item': 'mousepad', 'qty': 25, 'size': {'h': 150, 'w': 22.85, 'uom': 'cm'}, 'status': 'ABC', 'date': datetime.datetime(2020, 9, 20, 7, 45, 57, 888000)}\n",
      "{'_id': ObjectId('5f6708a91bc627fd209b9c69'), 'item': 'notebook', 'qty': 50, 'size': {'h': 8.5, 'w': 11, 'uom': 'in'}, 'status': 'P'}\n",
      "{'_id': ObjectId('5f6708a91bc627fd209b9c6a'), 'item': 'paper', 'instock': [{'warehous': 'AAAA', 'qty': 100}, {'warehouse': 'BBB', 'qty': 200}]}\n",
      "{'_id': ObjectId('5f6708a91bc627fd209b9c6b'), 'item': 'planner', 'qty': 75, 'size': {'h': 22.85, 'w': 30, 'uom': 'cm'}, 'status': 'D'}\n",
      "{'_id': ObjectId('5f6708a91bc627fd209b9c6c'), 'item': 'postcard', 'qty': 45, 'size': {'h': 150, 'w': 15.25, 'uom': 'cm'}, 'status': 'ABC', 'date': datetime.datetime(2020, 9, 20, 7, 45, 57, 888000)}\n",
      "{'_id': ObjectId('5f6708a91bc627fd209b9c6d'), 'item': 'sketchbook', 'qty': 80, 'size': {'h': 28, 'w': 21, 'uom': 'cm'}, 'status': 'AA', 'last_modified': datetime.datetime(2020, 9, 20, 7, 45, 52, 280000)}\n",
      "{'_id': ObjectId('5f6708a91bc627fd209b9c6e'), 'item': 'sketch pad', 'qty': 95, 'size': {'h': 22.85, 'w': 30.5, 'uom': 'up_uom'}, 'status': 'A_update'}\n"
     ]
    }
   ],
   "source": [
    "for x in mycol.find():\n",
    "    print(x)"
   ]
  },
  {
   "cell_type": "code",
   "execution_count": null,
   "metadata": {},
   "outputs": [],
   "source": []
  }
 ],
 "metadata": {
  "kernelspec": {
   "display_name": "Python 3",
   "language": "python",
   "name": "python3"
  },
  "language_info": {
   "codemirror_mode": {
    "name": "ipython",
    "version": 3
   },
   "file_extension": ".py",
   "mimetype": "text/x-python",
   "name": "python",
   "nbconvert_exporter": "python",
   "pygments_lexer": "ipython3",
   "version": "3.8.3"
  }
 },
 "nbformat": 4,
 "nbformat_minor": 4
}
